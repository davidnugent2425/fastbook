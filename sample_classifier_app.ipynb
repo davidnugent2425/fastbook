{
 "cells": [
  {
   "cell_type": "code",
   "execution_count": 1,
   "metadata": {
    "colab": {
     "base_uri": "https://localhost:8080/",
     "height": 280
    },
    "colab_type": "code",
    "id": "3UPwNFFTfxjy",
    "outputId": "29f95f20-cc7b-4aaa-8811-6618ac6c5f01"
   },
   "outputs": [
    {
     "name": "stdout",
     "output_type": "stream",
     "text": [
      "\u001b[K     |████████████████████████████████| 1.0MB 4.1MB/s \n",
      "\u001b[K     |████████████████████████████████| 51kB 5.7MB/s \n",
      "\u001b[K     |████████████████████████████████| 61kB 5.6MB/s \n",
      "\u001b[K     |████████████████████████████████| 358kB 17.0MB/s \n",
      "\u001b[K     |████████████████████████████████| 92kB 7.0MB/s \n",
      "\u001b[K     |████████████████████████████████| 40kB 4.3MB/s \n",
      "\u001b[K     |████████████████████████████████| 51kB 5.0MB/s \n",
      "\u001b[K     |████████████████████████████████| 61kB 6.0MB/s \n",
      "\u001b[K     |████████████████████████████████| 2.7MB 16.1MB/s \n",
      "\u001b[?25hGo to this URL in a browser: https://accounts.google.com/o/oauth2/auth?client_id=947318989803-6bn6qk8qdgf4n4g3pfee6491hc0brc4i.apps.googleusercontent.com&redirect_uri=urn%3aietf%3awg%3aoauth%3a2.0%3aoob&scope=email%20https%3a%2f%2fwww.googleapis.com%2fauth%2fdocs.test%20https%3a%2f%2fwww.googleapis.com%2fauth%2fdrive%20https%3a%2f%2fwww.googleapis.com%2fauth%2fdrive.photos.readonly%20https%3a%2f%2fwww.googleapis.com%2fauth%2fpeopleapi.readonly&response_type=code\n",
      "\n",
      "Enter your authorization code:\n",
      "··········\n",
      "Mounted at /content/gdrive\n"
     ]
    }
   ],
   "source": [
    "#hide\n",
    "!pip install -Uqq fastbook\n",
    "import fastbook\n",
    "fastbook.setup_book()"
   ]
  },
  {
   "cell_type": "code",
   "execution_count": 8,
   "metadata": {
    "colab": {
     "base_uri": "https://localhost:8080/",
     "height": 904
    },
    "colab_type": "code",
    "id": "QvYG8MIbn2GO",
    "outputId": "822e63fb-b59b-4d8f-b03c-917f84c6680c"
   },
   "outputs": [
    {
     "name": "stdout",
     "output_type": "stream",
     "text": [
      "Requirement already satisfied: voila in /usr/local/lib/python3.6/dist-packages (0.1.22)\n",
      "Requirement already satisfied: pygments<3,>=2.4.1 in /usr/local/lib/python3.6/dist-packages (from voila) (2.6.1)\n",
      "Requirement already satisfied: nbconvert<6,>=5.5.0 in /usr/local/lib/python3.6/dist-packages (from voila) (5.6.1)\n",
      "Requirement already satisfied: jupyter-server<0.2.0,>=0.1.0 in /usr/local/lib/python3.6/dist-packages (from voila) (0.1.1)\n",
      "Requirement already satisfied: jupyterlab-pygments<0.2,>=0.1.0 in /usr/local/lib/python3.6/dist-packages (from voila) (0.1.1)\n",
      "Requirement already satisfied: async-generator in /usr/local/lib/python3.6/dist-packages (from voila) (1.10)\n",
      "Requirement already satisfied: entrypoints>=0.2.2 in /usr/local/lib/python3.6/dist-packages (from nbconvert<6,>=5.5.0->voila) (0.3)\n",
      "Requirement already satisfied: nbformat>=4.4 in /usr/local/lib/python3.6/dist-packages (from nbconvert<6,>=5.5.0->voila) (5.0.7)\n",
      "Requirement already satisfied: jinja2>=2.4 in /usr/local/lib/python3.6/dist-packages (from nbconvert<6,>=5.5.0->voila) (2.11.2)\n",
      "Requirement already satisfied: traitlets>=4.2 in /usr/local/lib/python3.6/dist-packages (from nbconvert<6,>=5.5.0->voila) (4.3.3)\n",
      "Requirement already satisfied: mistune<2,>=0.8.1 in /usr/local/lib/python3.6/dist-packages (from nbconvert<6,>=5.5.0->voila) (0.8.4)\n",
      "Requirement already satisfied: defusedxml in /usr/local/lib/python3.6/dist-packages (from nbconvert<6,>=5.5.0->voila) (0.6.0)\n",
      "Requirement already satisfied: bleach in /usr/local/lib/python3.6/dist-packages (from nbconvert<6,>=5.5.0->voila) (3.1.5)\n",
      "Requirement already satisfied: pandocfilters>=1.4.1 in /usr/local/lib/python3.6/dist-packages (from nbconvert<6,>=5.5.0->voila) (1.4.2)\n",
      "Requirement already satisfied: jupyter-core in /usr/local/lib/python3.6/dist-packages (from nbconvert<6,>=5.5.0->voila) (4.6.3)\n",
      "Requirement already satisfied: testpath in /usr/local/lib/python3.6/dist-packages (from nbconvert<6,>=5.5.0->voila) (0.4.4)\n",
      "Requirement already satisfied: ipykernel in /usr/local/lib/python3.6/dist-packages (from jupyter-server<0.2.0,>=0.1.0->voila) (4.10.1)\n",
      "Requirement already satisfied: Send2Trash in /usr/local/lib/python3.6/dist-packages (from jupyter-server<0.2.0,>=0.1.0->voila) (1.5.0)\n",
      "Requirement already satisfied: ipython-genutils in /usr/local/lib/python3.6/dist-packages (from jupyter-server<0.2.0,>=0.1.0->voila) (0.2.0)\n",
      "Requirement already satisfied: prometheus-client in /usr/local/lib/python3.6/dist-packages (from jupyter-server<0.2.0,>=0.1.0->voila) (0.8.0)\n",
      "Requirement already satisfied: jupyter-client>=5.3.1 in /usr/local/lib/python3.6/dist-packages (from jupyter-server<0.2.0,>=0.1.0->voila) (5.3.5)\n",
      "Requirement already satisfied: tornado>=4 in /usr/local/lib/python3.6/dist-packages (from jupyter-server<0.2.0,>=0.1.0->voila) (5.1.1)\n",
      "Requirement already satisfied: pyzmq>=17 in /usr/local/lib/python3.6/dist-packages (from jupyter-server<0.2.0,>=0.1.0->voila) (19.0.2)\n",
      "Requirement already satisfied: terminado>=0.8.1 in /usr/local/lib/python3.6/dist-packages (from jupyter-server<0.2.0,>=0.1.0->voila) (0.8.3)\n",
      "Requirement already satisfied: jsonschema!=2.5.0,>=2.4 in /usr/local/lib/python3.6/dist-packages (from nbformat>=4.4->nbconvert<6,>=5.5.0->voila) (2.6.0)\n",
      "Requirement already satisfied: MarkupSafe>=0.23 in /usr/local/lib/python3.6/dist-packages (from jinja2>=2.4->nbconvert<6,>=5.5.0->voila) (1.1.1)\n",
      "Requirement already satisfied: six in /usr/local/lib/python3.6/dist-packages (from traitlets>=4.2->nbconvert<6,>=5.5.0->voila) (1.15.0)\n",
      "Requirement already satisfied: decorator in /usr/local/lib/python3.6/dist-packages (from traitlets>=4.2->nbconvert<6,>=5.5.0->voila) (4.4.2)\n",
      "Requirement already satisfied: packaging in /usr/local/lib/python3.6/dist-packages (from bleach->nbconvert<6,>=5.5.0->voila) (20.4)\n",
      "Requirement already satisfied: webencodings in /usr/local/lib/python3.6/dist-packages (from bleach->nbconvert<6,>=5.5.0->voila) (0.5.1)\n",
      "Requirement already satisfied: ipython>=4.0.0 in /usr/local/lib/python3.6/dist-packages (from ipykernel->jupyter-server<0.2.0,>=0.1.0->voila) (5.5.0)\n",
      "Requirement already satisfied: python-dateutil>=2.1 in /usr/local/lib/python3.6/dist-packages (from jupyter-client>=5.3.1->jupyter-server<0.2.0,>=0.1.0->voila) (2.8.1)\n",
      "Requirement already satisfied: ptyprocess; os_name != \"nt\" in /usr/local/lib/python3.6/dist-packages (from terminado>=0.8.1->jupyter-server<0.2.0,>=0.1.0->voila) (0.6.0)\n",
      "Requirement already satisfied: pyparsing>=2.0.2 in /usr/local/lib/python3.6/dist-packages (from packaging->bleach->nbconvert<6,>=5.5.0->voila) (2.4.7)\n",
      "Requirement already satisfied: setuptools>=18.5 in /usr/local/lib/python3.6/dist-packages (from ipython>=4.0.0->ipykernel->jupyter-server<0.2.0,>=0.1.0->voila) (49.2.0)\n",
      "Requirement already satisfied: simplegeneric>0.8 in /usr/local/lib/python3.6/dist-packages (from ipython>=4.0.0->ipykernel->jupyter-server<0.2.0,>=0.1.0->voila) (0.8.1)\n",
      "Requirement already satisfied: pexpect; sys_platform != \"win32\" in /usr/local/lib/python3.6/dist-packages (from ipython>=4.0.0->ipykernel->jupyter-server<0.2.0,>=0.1.0->voila) (4.8.0)\n",
      "Requirement already satisfied: prompt-toolkit<2.0.0,>=1.0.4 in /usr/local/lib/python3.6/dist-packages (from ipython>=4.0.0->ipykernel->jupyter-server<0.2.0,>=0.1.0->voila) (1.0.18)\n",
      "Requirement already satisfied: pickleshare in /usr/local/lib/python3.6/dist-packages (from ipython>=4.0.0->ipykernel->jupyter-server<0.2.0,>=0.1.0->voila) (0.7.5)\n",
      "Requirement already satisfied: wcwidth in /usr/local/lib/python3.6/dist-packages (from prompt-toolkit<2.0.0,>=1.0.4->ipython>=4.0.0->ipykernel->jupyter-server<0.2.0,>=0.1.0->voila) (0.2.5)\n",
      "Enabling: voila\n",
      "- Writing config: /root/.jupyter\n",
      "    - Validating...\n",
      "Error loading server extension voila\n",
      "     \u001b[31m X\u001b[0m is voila importable?\n",
      "Enabling: —sys-prefix\n",
      "- Writing config: /root/.jupyter\n",
      "    - Validating...\n",
      "Error loading server extension —sys-prefix\n",
      "     \u001b[31m X\u001b[0m is —sys-prefix importable?\n"
     ]
    }
   ],
   "source": [
    "#hide\n",
    "!pip install voila\n",
    "!jupyter serverextension enable voila —sys-prefix"
   ]
  },
  {
   "cell_type": "code",
   "execution_count": 2,
   "metadata": {
    "colab": {},
    "colab_type": "code",
    "id": "AhBIeAnLfxj8"
   },
   "outputs": [],
   "source": [
    "#hide\n",
    "from fastbook import *\n",
    "from fastai.vision.widgets import *"
   ]
  },
  {
   "cell_type": "code",
   "execution_count": 3,
   "metadata": {
    "colab": {
     "base_uri": "https://localhost:8080/",
     "height": 35
    },
    "colab_type": "code",
    "id": "kpKUA2iJm3Da",
    "outputId": "e0ef9075-4ece-468f-dc00-b81e4ab35e8d"
   },
   "outputs": [
    {
     "name": "stdout",
     "output_type": "stream",
     "text": [
      "/content/gdrive/My Drive/course-v4/nbs\n"
     ]
    }
   ],
   "source": [
    "path = Path()"
   ]
  },
  {
   "cell_type": "code",
   "execution_count": 4,
   "metadata": {
    "colab": {},
    "colab_type": "code",
    "id": "DuX4Gy8klM5d"
   },
   "outputs": [],
   "source": [
    "out_pl = widgets.Output()\n",
    "out_pl.clear_output()\n",
    "learn_inf = load_learner(path/'export.pkl')\n",
    "lbl_pred = widgets.Label()\n",
    "btn_run = widgets.Button(description='Classify')\n",
    "btn_upload = widgets.FileUpload()"
   ]
  },
  {
   "cell_type": "code",
   "execution_count": 5,
   "metadata": {
    "colab": {},
    "colab_type": "code",
    "id": "iNGSTRAGmGlR"
   },
   "outputs": [],
   "source": [
    "def on_click_classify(change):\n",
    "    img = PILImage.create(btn_upload.data[-1])\n",
    "    out_pl.clear_output()\n",
    "    with out_pl: display(img.to_thumb(128,128))\n",
    "    pred,pred_idx,probs = learn_inf.predict(img)\n",
    "    lbl_pred.value = f'Prediction: {pred}; Probability: {probs[pred_idx]:.04f}'\n",
    "\n",
    "btn_run.on_click(on_click_classify)"
   ]
  },
  {
   "cell_type": "code",
   "execution_count": 6,
   "metadata": {
    "colab": {
     "base_uri": "https://localhost:8080/",
     "height": 230,
     "referenced_widgets": [
      "8e890d690e2346b8aff9e7f0c72370d4",
      "920744e6b8bb4b0ab201391c23b71b50",
      "02641ef3514343e69f122a79eb3b85c2",
      "d347e333e9e7464ca367e2d1bdad63b2",
      "35d4abc771f74ad8bd10a7ae0a586ede",
      "7ecac114001048099b7f36a475b436cf",
      "5bc451636def41618d4c67c7c349fd1d",
      "83b70c6e1f6a43e999117a48bfce23c5",
      "5bfb56d6dbd24b63b29f81ca93aab020",
      "ef7d4f06caa344acadf9f1a9679cf0b9",
      "80cba5e809bc438a80c6d951497fdf1d",
      "1dcfce12412a48b4a860b07583d5c76a",
      "54feb1f18965479ebc41624289313447",
      "fe44cc65fc174f83a264dade938e8154",
      "4c3842dbf1f647a9935849b0674d075e",
      "57ce7569b4b94d68bcfa18867d990671"
     ]
    },
    "colab_type": "code",
    "id": "9EUvzUWInA4F",
    "outputId": "77a924bf-8db6-4246-8f9b-e72908a71e34"
   },
   "outputs": [
    {
     "data": {
      "application/vnd.jupyter.widget-view+json": {
       "model_id": "8e890d690e2346b8aff9e7f0c72370d4",
       "version_major": 2,
       "version_minor": 0
      },
      "text/plain": [
       "VBox(children=(Label(value='Select your bear!'), FileUpload(value={}, description='Upload'), Button(descriptio…"
      ]
     },
     "metadata": {
      "tags": []
     },
     "output_type": "display_data"
    },
    {
     "data": {
      "text/html": [],
      "text/plain": [
       "<IPython.core.display.HTML object>"
      ]
     },
     "metadata": {
      "tags": []
     },
     "output_type": "display_data"
    }
   ],
   "source": [
    "#hide_output\n",
    "VBox([widgets.Label('Select your bear!'), \n",
    "      btn_upload, btn_run, out_pl, lbl_pred])"
   ]
  }
 ],
 "metadata": {
  "accelerator": "GPU",
  "colab": {
   "name": "sample_classifier_app.ipynb",
   "provenance": []
  },
  "kernelspec": {
   "display_name": "Python 3",
   "language": "python",
   "name": "python3"
  },
  "language_info": {
   "codemirror_mode": {
    "name": "ipython",
    "version": 3
   },
   "file_extension": ".py",
   "mimetype": "text/x-python",
   "name": "python",
   "nbconvert_exporter": "python",
   "pygments_lexer": "ipython3",
   "version": "3.6.9"
  },
  "widgets": {
   "application/vnd.jupyter.widget-state+json": {
    "02641ef3514343e69f122a79eb3b85c2": {
     "model_module": "@jupyter-widgets/controls",
     "model_name": "LabelModel",
     "state": {
      "_dom_classes": [],
      "_model_module": "@jupyter-widgets/controls",
      "_model_module_version": "1.5.0",
      "_model_name": "LabelModel",
      "_view_count": null,
      "_view_module": "@jupyter-widgets/controls",
      "_view_module_version": "1.5.0",
      "_view_name": "LabelView",
      "description": "",
      "description_tooltip": null,
      "layout": "IPY_MODEL_5bfb56d6dbd24b63b29f81ca93aab020",
      "placeholder": "​",
      "style": "IPY_MODEL_83b70c6e1f6a43e999117a48bfce23c5",
      "value": "Select your bear!"
     }
    },
    "1dcfce12412a48b4a860b07583d5c76a": {
     "model_module": "@jupyter-widgets/controls",
     "model_name": "ButtonStyleModel",
     "state": {
      "_model_module": "@jupyter-widgets/controls",
      "_model_module_version": "1.5.0",
      "_model_name": "ButtonStyleModel",
      "_view_count": null,
      "_view_module": "@jupyter-widgets/base",
      "_view_module_version": "1.2.0",
      "_view_name": "StyleView",
      "button_color": null,
      "font_weight": ""
     }
    },
    "35d4abc771f74ad8bd10a7ae0a586ede": {
     "model_module": "@jupyter-widgets/controls",
     "model_name": "ButtonModel",
     "state": {
      "_dom_classes": [],
      "_model_module": "@jupyter-widgets/controls",
      "_model_module_version": "1.5.0",
      "_model_name": "ButtonModel",
      "_view_count": null,
      "_view_module": "@jupyter-widgets/controls",
      "_view_module_version": "1.5.0",
      "_view_name": "ButtonView",
      "button_style": "",
      "description": "Classify",
      "disabled": false,
      "icon": "",
      "layout": "IPY_MODEL_54feb1f18965479ebc41624289313447",
      "style": "IPY_MODEL_1dcfce12412a48b4a860b07583d5c76a",
      "tooltip": ""
     }
    },
    "4c3842dbf1f647a9935849b0674d075e": {
     "model_module": "@jupyter-widgets/base",
     "model_name": "LayoutModel",
     "state": {
      "_model_module": "@jupyter-widgets/base",
      "_model_module_version": "1.2.0",
      "_model_name": "LayoutModel",
      "_view_count": null,
      "_view_module": "@jupyter-widgets/base",
      "_view_module_version": "1.2.0",
      "_view_name": "LayoutView",
      "align_content": null,
      "align_items": null,
      "align_self": null,
      "border": null,
      "bottom": null,
      "display": null,
      "flex": null,
      "flex_flow": null,
      "grid_area": null,
      "grid_auto_columns": null,
      "grid_auto_flow": null,
      "grid_auto_rows": null,
      "grid_column": null,
      "grid_gap": null,
      "grid_row": null,
      "grid_template_areas": null,
      "grid_template_columns": null,
      "grid_template_rows": null,
      "height": null,
      "justify_content": null,
      "justify_items": null,
      "left": null,
      "margin": null,
      "max_height": null,
      "max_width": null,
      "min_height": null,
      "min_width": null,
      "object_fit": null,
      "object_position": null,
      "order": null,
      "overflow": null,
      "overflow_x": null,
      "overflow_y": null,
      "padding": null,
      "right": null,
      "top": null,
      "visibility": null,
      "width": null
     }
    },
    "54feb1f18965479ebc41624289313447": {
     "model_module": "@jupyter-widgets/base",
     "model_name": "LayoutModel",
     "state": {
      "_model_module": "@jupyter-widgets/base",
      "_model_module_version": "1.2.0",
      "_model_name": "LayoutModel",
      "_view_count": null,
      "_view_module": "@jupyter-widgets/base",
      "_view_module_version": "1.2.0",
      "_view_name": "LayoutView",
      "align_content": null,
      "align_items": null,
      "align_self": null,
      "border": null,
      "bottom": null,
      "display": null,
      "flex": null,
      "flex_flow": null,
      "grid_area": null,
      "grid_auto_columns": null,
      "grid_auto_flow": null,
      "grid_auto_rows": null,
      "grid_column": null,
      "grid_gap": null,
      "grid_row": null,
      "grid_template_areas": null,
      "grid_template_columns": null,
      "grid_template_rows": null,
      "height": null,
      "justify_content": null,
      "justify_items": null,
      "left": null,
      "margin": null,
      "max_height": null,
      "max_width": null,
      "min_height": null,
      "min_width": null,
      "object_fit": null,
      "object_position": null,
      "order": null,
      "overflow": null,
      "overflow_x": null,
      "overflow_y": null,
      "padding": null,
      "right": null,
      "top": null,
      "visibility": null,
      "width": null
     }
    },
    "57ce7569b4b94d68bcfa18867d990671": {
     "model_module": "@jupyter-widgets/base",
     "model_name": "LayoutModel",
     "state": {
      "_model_module": "@jupyter-widgets/base",
      "_model_module_version": "1.2.0",
      "_model_name": "LayoutModel",
      "_view_count": null,
      "_view_module": "@jupyter-widgets/base",
      "_view_module_version": "1.2.0",
      "_view_name": "LayoutView",
      "align_content": null,
      "align_items": null,
      "align_self": null,
      "border": null,
      "bottom": null,
      "display": null,
      "flex": null,
      "flex_flow": null,
      "grid_area": null,
      "grid_auto_columns": null,
      "grid_auto_flow": null,
      "grid_auto_rows": null,
      "grid_column": null,
      "grid_gap": null,
      "grid_row": null,
      "grid_template_areas": null,
      "grid_template_columns": null,
      "grid_template_rows": null,
      "height": null,
      "justify_content": null,
      "justify_items": null,
      "left": null,
      "margin": null,
      "max_height": null,
      "max_width": null,
      "min_height": null,
      "min_width": null,
      "object_fit": null,
      "object_position": null,
      "order": null,
      "overflow": null,
      "overflow_x": null,
      "overflow_y": null,
      "padding": null,
      "right": null,
      "top": null,
      "visibility": null,
      "width": null
     }
    },
    "5bc451636def41618d4c67c7c349fd1d": {
     "model_module": "@jupyter-widgets/controls",
     "model_name": "LabelModel",
     "state": {
      "_dom_classes": [],
      "_model_module": "@jupyter-widgets/controls",
      "_model_module_version": "1.5.0",
      "_model_name": "LabelModel",
      "_view_count": null,
      "_view_module": "@jupyter-widgets/controls",
      "_view_module_version": "1.5.0",
      "_view_name": "LabelView",
      "description": "",
      "description_tooltip": null,
      "layout": "IPY_MODEL_4c3842dbf1f647a9935849b0674d075e",
      "placeholder": "​",
      "style": "IPY_MODEL_fe44cc65fc174f83a264dade938e8154",
      "value": "Prediction: grizzly; Probability: 1.0000"
     }
    },
    "5bfb56d6dbd24b63b29f81ca93aab020": {
     "model_module": "@jupyter-widgets/base",
     "model_name": "LayoutModel",
     "state": {
      "_model_module": "@jupyter-widgets/base",
      "_model_module_version": "1.2.0",
      "_model_name": "LayoutModel",
      "_view_count": null,
      "_view_module": "@jupyter-widgets/base",
      "_view_module_version": "1.2.0",
      "_view_name": "LayoutView",
      "align_content": null,
      "align_items": null,
      "align_self": null,
      "border": null,
      "bottom": null,
      "display": null,
      "flex": null,
      "flex_flow": null,
      "grid_area": null,
      "grid_auto_columns": null,
      "grid_auto_flow": null,
      "grid_auto_rows": null,
      "grid_column": null,
      "grid_gap": null,
      "grid_row": null,
      "grid_template_areas": null,
      "grid_template_columns": null,
      "grid_template_rows": null,
      "height": null,
      "justify_content": null,
      "justify_items": null,
      "left": null,
      "margin": null,
      "max_height": null,
      "max_width": null,
      "min_height": null,
      "min_width": null,
      "object_fit": null,
      "object_position": null,
      "order": null,
      "overflow": null,
      "overflow_x": null,
      "overflow_y": null,
      "padding": null,
      "right": null,
      "top": null,
      "visibility": null,
      "width": null
     }
    },
    "7ecac114001048099b7f36a475b436cf": {
     "model_module": "@jupyter-widgets/output",
     "model_name": "OutputModel",
     "state": {
      "_dom_classes": [],
      "_model_module": "@jupyter-widgets/output",
      "_model_module_version": "1.0.0",
      "_model_name": "OutputModel",
      "_view_count": null,
      "_view_module": "@jupyter-widgets/output",
      "_view_module_version": "1.0.0",
      "_view_name": "OutputView",
      "layout": "IPY_MODEL_57ce7569b4b94d68bcfa18867d990671",
      "msg_id": "",
      "outputs": [
       {
        "image/png": "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\n",
        "metadata": {
         "tags": []
        },
        "output_type": "display_data",
        "text/plain": "<PIL.Image.Image image mode=RGB size=128x85 at 0x7F6E85F3C3C8>"
       }
      ]
     }
    },
    "80cba5e809bc438a80c6d951497fdf1d": {
     "model_module": "@jupyter-widgets/base",
     "model_name": "LayoutModel",
     "state": {
      "_model_module": "@jupyter-widgets/base",
      "_model_module_version": "1.2.0",
      "_model_name": "LayoutModel",
      "_view_count": null,
      "_view_module": "@jupyter-widgets/base",
      "_view_module_version": "1.2.0",
      "_view_name": "LayoutView",
      "align_content": null,
      "align_items": null,
      "align_self": null,
      "border": null,
      "bottom": null,
      "display": null,
      "flex": null,
      "flex_flow": null,
      "grid_area": null,
      "grid_auto_columns": null,
      "grid_auto_flow": null,
      "grid_auto_rows": null,
      "grid_column": null,
      "grid_gap": null,
      "grid_row": null,
      "grid_template_areas": null,
      "grid_template_columns": null,
      "grid_template_rows": null,
      "height": null,
      "justify_content": null,
      "justify_items": null,
      "left": null,
      "margin": null,
      "max_height": null,
      "max_width": null,
      "min_height": null,
      "min_width": null,
      "object_fit": null,
      "object_position": null,
      "order": null,
      "overflow": null,
      "overflow_x": null,
      "overflow_y": null,
      "padding": null,
      "right": null,
      "top": null,
      "visibility": null,
      "width": null
     }
    },
    "83b70c6e1f6a43e999117a48bfce23c5": {
     "model_module": "@jupyter-widgets/controls",
     "model_name": "DescriptionStyleModel",
     "state": {
      "_model_module": "@jupyter-widgets/controls",
      "_model_module_version": "1.5.0",
      "_model_name": "DescriptionStyleModel",
      "_view_count": null,
      "_view_module": "@jupyter-widgets/base",
      "_view_module_version": "1.2.0",
      "_view_name": "StyleView",
      "description_width": ""
     }
    },
    "8e890d690e2346b8aff9e7f0c72370d4": {
     "model_module": "@jupyter-widgets/controls",
     "model_name": "VBoxModel",
     "state": {
      "_dom_classes": [],
      "_model_module": "@jupyter-widgets/controls",
      "_model_module_version": "1.5.0",
      "_model_name": "VBoxModel",
      "_view_count": null,
      "_view_module": "@jupyter-widgets/controls",
      "_view_module_version": "1.5.0",
      "_view_name": "VBoxView",
      "box_style": "",
      "children": [
       "IPY_MODEL_02641ef3514343e69f122a79eb3b85c2",
       "IPY_MODEL_d347e333e9e7464ca367e2d1bdad63b2",
       "IPY_MODEL_35d4abc771f74ad8bd10a7ae0a586ede",
       "IPY_MODEL_7ecac114001048099b7f36a475b436cf",
       "IPY_MODEL_5bc451636def41618d4c67c7c349fd1d"
      ],
      "layout": "IPY_MODEL_920744e6b8bb4b0ab201391c23b71b50"
     }
    },
    "920744e6b8bb4b0ab201391c23b71b50": {
     "model_module": "@jupyter-widgets/base",
     "model_name": "LayoutModel",
     "state": {
      "_model_module": "@jupyter-widgets/base",
      "_model_module_version": "1.2.0",
      "_model_name": "LayoutModel",
      "_view_count": null,
      "_view_module": "@jupyter-widgets/base",
      "_view_module_version": "1.2.0",
      "_view_name": "LayoutView",
      "align_content": null,
      "align_items": null,
      "align_self": null,
      "border": null,
      "bottom": null,
      "display": null,
      "flex": null,
      "flex_flow": null,
      "grid_area": null,
      "grid_auto_columns": null,
      "grid_auto_flow": null,
      "grid_auto_rows": null,
      "grid_column": null,
      "grid_gap": null,
      "grid_row": null,
      "grid_template_areas": null,
      "grid_template_columns": null,
      "grid_template_rows": null,
      "height": null,
      "justify_content": null,
      "justify_items": null,
      "left": null,
      "margin": null,
      "max_height": null,
      "max_width": null,
      "min_height": null,
      "min_width": null,
      "object_fit": null,
      "object_position": null,
      "order": null,
      "overflow": null,
      "overflow_x": null,
      "overflow_y": null,
      "padding": null,
      "right": null,
      "top": null,
      "visibility": null,
      "width": null
     }
    },
    "d347e333e9e7464ca367e2d1bdad63b2": {
     "model_module": "@jupyter-widgets/controls",
     "model_name": "FileUploadModel",
     "state": {
      "_counter": 1,
      "_dom_classes": [],
      "_model_module": "@jupyter-widgets/controls",
      "_model_module_version": "1.5.0",
      "_model_name": "FileUploadModel",
      "_view_count": null,
      "_view_module": "@jupyter-widgets/controls",
      "_view_module_version": "1.5.0",
      "_view_name": "FileUploadView",
      "accept": "",
      "button_style": "",
      "data": [
       null
      ],
      "description": "Upload",
      "description_tooltip": null,
      "disabled": false,
      "error": "",
      "icon": "upload",
      "layout": "IPY_MODEL_80cba5e809bc438a80c6d951497fdf1d",
      "metadata": [
       {
        "lastModified": 1598273560460,
        "name": "grizzly.jpg",
        "size": 332689,
        "type": "image/jpeg"
       }
      ],
      "multiple": false,
      "style": "IPY_MODEL_ef7d4f06caa344acadf9f1a9679cf0b9"
     }
    },
    "ef7d4f06caa344acadf9f1a9679cf0b9": {
     "model_module": "@jupyter-widgets/controls",
     "model_name": "ButtonStyleModel",
     "state": {
      "_model_module": "@jupyter-widgets/controls",
      "_model_module_version": "1.5.0",
      "_model_name": "ButtonStyleModel",
      "_view_count": null,
      "_view_module": "@jupyter-widgets/base",
      "_view_module_version": "1.2.0",
      "_view_name": "StyleView",
      "button_color": null,
      "font_weight": ""
     }
    },
    "fe44cc65fc174f83a264dade938e8154": {
     "model_module": "@jupyter-widgets/controls",
     "model_name": "DescriptionStyleModel",
     "state": {
      "_model_module": "@jupyter-widgets/controls",
      "_model_module_version": "1.5.0",
      "_model_name": "DescriptionStyleModel",
      "_view_count": null,
      "_view_module": "@jupyter-widgets/base",
      "_view_module_version": "1.2.0",
      "_view_name": "StyleView",
      "description_width": ""
     }
    }
   }
  }
 },
 "nbformat": 4,
 "nbformat_minor": 1
}
